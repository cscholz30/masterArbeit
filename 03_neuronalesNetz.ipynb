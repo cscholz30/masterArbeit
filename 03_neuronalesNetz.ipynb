{
 "cells": [
  {
   "cell_type": "code",
   "execution_count": 48,
   "metadata": {},
   "outputs": [],
   "source": [
    "import tensorflow as tf\n",
    "import pandas as pd\n",
    "import numpy as np"
   ]
  },
  {
   "cell_type": "code",
   "execution_count": 62,
   "metadata": {},
   "outputs": [],
   "source": [
    "# Laden des Datensatzes von einer CSV-Datei\n",
    "data = pd.read_csv('C:/Users/fhb181029/Documents/FH/S9/MasterArbeit/Prototyp/DatascrapeInput.csv', delimiter=';')"
   ]
  },
  {
   "cell_type": "code",
   "execution_count": 63,
   "metadata": {},
   "outputs": [],
   "source": [
    "data['ssid'] = pd.to_numeric(data['ssid'], errors='coerce')\n",
    "data['phase'] = pd.to_numeric(data['phase'], errors='coerce')\n",
    "data['retweetCount'] = pd.to_numeric(data['retweetCount'], errors='coerce')\n",
    "data['likeCount'] = pd.to_numeric(data['likeCount'], errors='coerce')\n",
    "data['replyCount'] = pd.to_numeric(data['replyCount'], errors='coerce')"
   ]
  },
  {
   "cell_type": "code",
   "execution_count": 64,
   "metadata": {},
   "outputs": [
    {
     "data": {
      "text/plain": [
       "ssid                   int64\n",
       "phase                  int64\n",
       "retweetCount           int64\n",
       "likeCount              int64\n",
       "replyCount             int64\n",
       "content               object\n",
       "sentiment_english    float64\n",
       "sentiment_german     float64\n",
       "sentiment            float64\n",
       "dtype: object"
      ]
     },
     "execution_count": 64,
     "metadata": {},
     "output_type": "execute_result"
    }
   ],
   "source": [
    "data.head()\n",
    "data.dtypes"
   ]
  },
  {
   "cell_type": "code",
   "execution_count": 65,
   "metadata": {},
   "outputs": [],
   "source": [
    "# Entfernen der \"phase\" Spalte aus dem Feature-Set\n",
    "features = data.drop('phase', axis=1)\n",
    "features = features.drop(columns=[\"ssid\",\"sentiment_german\",\"sentiment_english\",\"content\"])\n"
   ]
  },
  {
   "cell_type": "code",
   "execution_count": 66,
   "metadata": {},
   "outputs": [
    {
     "data": {
      "text/html": [
       "<div>\n",
       "<style scoped>\n",
       "    .dataframe tbody tr th:only-of-type {\n",
       "        vertical-align: middle;\n",
       "    }\n",
       "\n",
       "    .dataframe tbody tr th {\n",
       "        vertical-align: top;\n",
       "    }\n",
       "\n",
       "    .dataframe thead th {\n",
       "        text-align: right;\n",
       "    }\n",
       "</style>\n",
       "<table border=\"1\" class=\"dataframe\">\n",
       "  <thead>\n",
       "    <tr style=\"text-align: right;\">\n",
       "      <th></th>\n",
       "      <th>retweetCount</th>\n",
       "      <th>likeCount</th>\n",
       "      <th>replyCount</th>\n",
       "      <th>sentiment</th>\n",
       "    </tr>\n",
       "  </thead>\n",
       "  <tbody>\n",
       "    <tr>\n",
       "      <th>0</th>\n",
       "      <td>0</td>\n",
       "      <td>0</td>\n",
       "      <td>1</td>\n",
       "      <td>0.00</td>\n",
       "    </tr>\n",
       "    <tr>\n",
       "      <th>1</th>\n",
       "      <td>2</td>\n",
       "      <td>0</td>\n",
       "      <td>0</td>\n",
       "      <td>0.00</td>\n",
       "    </tr>\n",
       "    <tr>\n",
       "      <th>2</th>\n",
       "      <td>0</td>\n",
       "      <td>0</td>\n",
       "      <td>0</td>\n",
       "      <td>0.25</td>\n",
       "    </tr>\n",
       "    <tr>\n",
       "      <th>3</th>\n",
       "      <td>0</td>\n",
       "      <td>0</td>\n",
       "      <td>0</td>\n",
       "      <td>0.00</td>\n",
       "    </tr>\n",
       "    <tr>\n",
       "      <th>4</th>\n",
       "      <td>0</td>\n",
       "      <td>0</td>\n",
       "      <td>0</td>\n",
       "      <td>0.00</td>\n",
       "    </tr>\n",
       "  </tbody>\n",
       "</table>\n",
       "</div>"
      ],
      "text/plain": [
       "   retweetCount  likeCount  replyCount  sentiment\n",
       "0             0          0           1       0.00\n",
       "1             2          0           0       0.00\n",
       "2             0          0           0       0.25\n",
       "3             0          0           0       0.00\n",
       "4             0          0           0       0.00"
      ]
     },
     "execution_count": 66,
     "metadata": {},
     "output_type": "execute_result"
    }
   ],
   "source": [
    "features.head()"
   ]
  },
  {
   "cell_type": "code",
   "execution_count": 67,
   "metadata": {},
   "outputs": [],
   "source": [
    "# Konvertieren des Feature-Sets und des Ziel-Sets in numpy arrays\n",
    "X = np.array(features)\n",
    "y = np.array(data['phase'])"
   ]
  },
  {
   "cell_type": "code",
   "execution_count": 55,
   "metadata": {},
   "outputs": [],
   "source": [
    "# Normalisierung der Features\n",
    "X = (X - X.mean()) / X.std()"
   ]
  },
  {
   "cell_type": "code",
   "execution_count": 68,
   "metadata": {},
   "outputs": [],
   "source": [
    "# Aufteilung der Daten in Trainings- und Testsets\n",
    "split = int(0.8 * len(X))\n",
    "X_train, y_train = X[:split], y[:split]\n",
    "X_test, y_test = X[split:], y[split:]\n",
    "\n",
    "y_train = y_train - 1\n",
    "y_test = y_test - 1\n",
    "\n"
   ]
  },
  {
   "cell_type": "code",
   "execution_count": 69,
   "metadata": {},
   "outputs": [],
   "source": [
    "# Definition des Modells\n",
    "model = tf.keras.models.Sequential([\n",
    "    tf.keras.layers.Dense(64, activation='relu'),\n",
    "    tf.keras.layers.Dense(32, activation='relu'),\n",
    "    tf.keras.layers.Dense(5, activation='softmax')\n",
    "])\n"
   ]
  },
  {
   "cell_type": "code",
   "execution_count": 58,
   "metadata": {},
   "outputs": [],
   "source": [
    "model_1 = tf.keras.models.Sequential([\n",
    "    tf.keras.layers.Dense(128, activation='relu'),\n",
    "    tf.keras.layers.Dense(64, activation='relu'),\n",
    "    tf.keras.layers.Dense(32, activation='relu'),\n",
    "    tf.keras.layers.Dense(5, activation='softmax')\n",
    "])\n",
    "\n",
    "model_2 = tf.keras.models.Sequential([\n",
    "    tf.keras.layers.Dense(64, activation='tanh'),\n",
    "    tf.keras.layers.Dense(64, activation='tanh'),\n",
    "    tf.keras.layers.Dense(32, activation='tanh'),\n",
    "    tf.keras.layers.Dense(5, activation='softmax')\n",
    "])\n",
    "\n",
    "model_3 = tf.keras.models.Sequential([\n",
    "    tf.keras.layers.Dense(64, activation='relu'),\n",
    "    tf.keras.layers.Dense(64, activation='relu'),\n",
    "    tf.keras.layers.Dense(32, activation='sigmoid'),\n",
    "    tf.keras.layers.Dense(5, activation='softmax')\n",
    "])\n",
    "\n",
    "model_4 = tf.keras.models.Sequential([\n",
    "    tf.keras.layers.Dense(64, activation='relu'),\n",
    "    tf.keras.layers.Dense(32, activation='relu'),\n",
    "    tf.keras.layers.Dense(5, activation='softmax')\n",
    "])\n"
   ]
  },
  {
   "cell_type": "code",
   "execution_count": 70,
   "metadata": {},
   "outputs": [],
   "source": [
    "# Kompilieren des Modells\n",
    "model.compile(optimizer='adam',\n",
    "              loss='sparse_categorical_crossentropy',\n",
    "              metrics=['accuracy'])"
   ]
  },
  {
   "cell_type": "code",
   "execution_count": 71,
   "metadata": {},
   "outputs": [
    {
     "name": "stdout",
     "output_type": "stream",
     "text": [
      "Epoch 1/50\n",
      "588/588 [==============================] - 3s 3ms/step - loss: 1.5289 - accuracy: 0.3162 - val_loss: 1.5131 - val_accuracy: 0.1945\n",
      "Epoch 2/50\n",
      "588/588 [==============================] - 1s 2ms/step - loss: 1.4864 - accuracy: 0.3411 - val_loss: 1.5648 - val_accuracy: 0.1953\n",
      "Epoch 3/50\n",
      "588/588 [==============================] - 1s 2ms/step - loss: 1.4998 - accuracy: 0.3476 - val_loss: 1.6405 - val_accuracy: 0.1928\n",
      "Epoch 4/50\n",
      "588/588 [==============================] - 1s 2ms/step - loss: 1.4765 - accuracy: 0.3531 - val_loss: 1.6084 - val_accuracy: 0.2283\n",
      "Epoch 5/50\n",
      "588/588 [==============================] - 2s 3ms/step - loss: 1.4805 - accuracy: 0.3543 - val_loss: 1.5589 - val_accuracy: 0.1371\n",
      "Epoch 6/50\n",
      "588/588 [==============================] - 3s 5ms/step - loss: 1.4750 - accuracy: 0.3516 - val_loss: 1.5260 - val_accuracy: 0.2372\n",
      "Epoch 7/50\n",
      "588/588 [==============================] - 2s 4ms/step - loss: 1.4775 - accuracy: 0.3572 - val_loss: 1.5028 - val_accuracy: 0.2710\n",
      "Epoch 8/50\n",
      "588/588 [==============================] - 2s 4ms/step - loss: 1.4721 - accuracy: 0.3582 - val_loss: 1.5178 - val_accuracy: 0.2950\n",
      "Epoch 9/50\n",
      "588/588 [==============================] - 2s 4ms/step - loss: 1.4649 - accuracy: 0.3596 - val_loss: 1.5125 - val_accuracy: 0.3299\n",
      "Epoch 10/50\n",
      "588/588 [==============================] - 3s 4ms/step - loss: 1.4621 - accuracy: 0.3612 - val_loss: 1.4885 - val_accuracy: 0.3505\n",
      "Epoch 11/50\n",
      "588/588 [==============================] - 3s 5ms/step - loss: 1.4633 - accuracy: 0.3583 - val_loss: 1.5343 - val_accuracy: 0.1807\n",
      "Epoch 12/50\n",
      "588/588 [==============================] - 3s 4ms/step - loss: 1.4579 - accuracy: 0.3622 - val_loss: 1.5285 - val_accuracy: 0.2869\n",
      "Epoch 13/50\n",
      "588/588 [==============================] - 2s 4ms/step - loss: 1.4554 - accuracy: 0.3622 - val_loss: 1.5445 - val_accuracy: 0.1705\n",
      "Epoch 14/50\n",
      "588/588 [==============================] - 2s 4ms/step - loss: 1.4530 - accuracy: 0.3650 - val_loss: 1.5401 - val_accuracy: 0.2533\n",
      "Epoch 15/50\n",
      "588/588 [==============================] - 2s 3ms/step - loss: 1.4530 - accuracy: 0.3613 - val_loss: 1.4964 - val_accuracy: 0.3131\n",
      "Epoch 16/50\n",
      "588/588 [==============================] - 2s 3ms/step - loss: 1.4530 - accuracy: 0.3626 - val_loss: 1.5474 - val_accuracy: 0.1430\n",
      "Epoch 17/50\n",
      "588/588 [==============================] - 2s 3ms/step - loss: 1.4531 - accuracy: 0.3639 - val_loss: 1.5094 - val_accuracy: 0.3456\n",
      "Epoch 18/50\n",
      "588/588 [==============================] - 1s 2ms/step - loss: 1.4508 - accuracy: 0.3658 - val_loss: 1.5120 - val_accuracy: 0.3452\n",
      "Epoch 19/50\n",
      "588/588 [==============================] - 2s 3ms/step - loss: 1.4506 - accuracy: 0.3652 - val_loss: 1.5248 - val_accuracy: 0.3286\n",
      "Epoch 20/50\n",
      "588/588 [==============================] - 2s 3ms/step - loss: 1.4508 - accuracy: 0.3630 - val_loss: 1.5262 - val_accuracy: 0.2480\n",
      "Epoch 21/50\n",
      "588/588 [==============================] - 2s 3ms/step - loss: 1.4497 - accuracy: 0.3658 - val_loss: 1.5270 - val_accuracy: 0.2937\n",
      "Epoch 22/50\n",
      "588/588 [==============================] - 2s 3ms/step - loss: 1.4505 - accuracy: 0.3669 - val_loss: 1.5502 - val_accuracy: 0.2725\n",
      "Epoch 23/50\n",
      "588/588 [==============================] - 1s 2ms/step - loss: 1.4514 - accuracy: 0.3652 - val_loss: 1.5319 - val_accuracy: 0.3018\n",
      "Epoch 24/50\n",
      "588/588 [==============================] - 1s 2ms/step - loss: 1.4498 - accuracy: 0.3655 - val_loss: 1.5174 - val_accuracy: 0.2893\n",
      "Epoch 25/50\n",
      "588/588 [==============================] - 1s 3ms/step - loss: 1.4481 - accuracy: 0.3661 - val_loss: 1.5567 - val_accuracy: 0.1611\n",
      "Epoch 26/50\n",
      "588/588 [==============================] - 1s 2ms/step - loss: 1.4487 - accuracy: 0.3674 - val_loss: 1.5685 - val_accuracy: 0.0939\n",
      "Epoch 27/50\n",
      "588/588 [==============================] - 1s 2ms/step - loss: 1.4482 - accuracy: 0.3661 - val_loss: 1.5118 - val_accuracy: 0.3413\n",
      "Epoch 28/50\n",
      "588/588 [==============================] - 1s 3ms/step - loss: 1.4477 - accuracy: 0.3655 - val_loss: 1.5255 - val_accuracy: 0.3299\n",
      "Epoch 29/50\n",
      "588/588 [==============================] - 1s 2ms/step - loss: 1.4479 - accuracy: 0.3656 - val_loss: 1.5121 - val_accuracy: 0.3807\n",
      "Epoch 30/50\n",
      "588/588 [==============================] - 2s 3ms/step - loss: 1.4484 - accuracy: 0.3653 - val_loss: 1.5556 - val_accuracy: 0.2349\n",
      "Epoch 31/50\n",
      "588/588 [==============================] - 2s 3ms/step - loss: 1.4467 - accuracy: 0.3629 - val_loss: 1.5169 - val_accuracy: 0.3318\n",
      "Epoch 32/50\n",
      "588/588 [==============================] - 2s 3ms/step - loss: 1.4472 - accuracy: 0.3683 - val_loss: 1.5400 - val_accuracy: 0.2232\n",
      "Epoch 33/50\n",
      "588/588 [==============================] - 2s 3ms/step - loss: 1.4470 - accuracy: 0.3661 - val_loss: 1.5233 - val_accuracy: 0.3224\n",
      "Epoch 34/50\n",
      "588/588 [==============================] - 2s 3ms/step - loss: 1.4465 - accuracy: 0.3670 - val_loss: 1.5191 - val_accuracy: 0.3401\n",
      "Epoch 35/50\n",
      "588/588 [==============================] - 2s 3ms/step - loss: 1.4460 - accuracy: 0.3661 - val_loss: 1.5319 - val_accuracy: 0.2623\n",
      "Epoch 36/50\n",
      "588/588 [==============================] - 2s 3ms/step - loss: 1.4467 - accuracy: 0.3672 - val_loss: 1.5273 - val_accuracy: 0.2997\n",
      "Epoch 37/50\n",
      "588/588 [==============================] - 1s 3ms/step - loss: 1.4457 - accuracy: 0.3665 - val_loss: 1.5188 - val_accuracy: 0.3365\n",
      "Epoch 38/50\n",
      "588/588 [==============================] - 1s 2ms/step - loss: 1.4451 - accuracy: 0.3678 - val_loss: 1.5567 - val_accuracy: 0.1915\n",
      "Epoch 39/50\n",
      "588/588 [==============================] - 2s 3ms/step - loss: 1.4448 - accuracy: 0.3698 - val_loss: 1.5367 - val_accuracy: 0.2718\n",
      "Epoch 40/50\n",
      "588/588 [==============================] - 2s 3ms/step - loss: 1.4446 - accuracy: 0.3687 - val_loss: 1.5328 - val_accuracy: 0.2631\n",
      "Epoch 41/50\n",
      "588/588 [==============================] - 2s 4ms/step - loss: 1.4452 - accuracy: 0.3677 - val_loss: 1.5508 - val_accuracy: 0.2045\n",
      "Epoch 42/50\n",
      "588/588 [==============================] - 2s 3ms/step - loss: 1.4442 - accuracy: 0.3684 - val_loss: 1.5475 - val_accuracy: 0.2306\n",
      "Epoch 43/50\n",
      "588/588 [==============================] - 1s 2ms/step - loss: 1.4444 - accuracy: 0.3696 - val_loss: 1.5484 - val_accuracy: 0.2221\n",
      "Epoch 44/50\n",
      "588/588 [==============================] - 2s 3ms/step - loss: 1.4446 - accuracy: 0.3687 - val_loss: 1.5139 - val_accuracy: 0.3439\n",
      "Epoch 45/50\n",
      "588/588 [==============================] - 1s 2ms/step - loss: 1.4439 - accuracy: 0.3687 - val_loss: 1.5166 - val_accuracy: 0.3494\n",
      "Epoch 46/50\n",
      "588/588 [==============================] - 2s 3ms/step - loss: 1.4428 - accuracy: 0.3692 - val_loss: 1.5215 - val_accuracy: 0.3492\n",
      "Epoch 47/50\n",
      "588/588 [==============================] - 2s 3ms/step - loss: 1.4438 - accuracy: 0.3694 - val_loss: 1.5487 - val_accuracy: 0.2438\n",
      "Epoch 48/50\n",
      "588/588 [==============================] - 1s 2ms/step - loss: 1.4436 - accuracy: 0.3695 - val_loss: 1.5183 - val_accuracy: 0.3511\n",
      "Epoch 49/50\n",
      "588/588 [==============================] - 2s 3ms/step - loss: 1.4429 - accuracy: 0.3681 - val_loss: 1.5413 - val_accuracy: 0.2582\n",
      "Epoch 50/50\n",
      "588/588 [==============================] - 2s 4ms/step - loss: 1.4427 - accuracy: 0.3698 - val_loss: 1.5186 - val_accuracy: 0.3532\n"
     ]
    }
   ],
   "source": [
    "# Training des Modells\n",
    "history = model.fit(X_train, y_train, epochs=50, batch_size=32, validation_data=(X_test, y_test))\n"
   ]
  },
  {
   "cell_type": "code",
   "execution_count": 72,
   "metadata": {},
   "outputs": [
    {
     "name": "stdout",
     "output_type": "stream",
     "text": [
      "148/148 [==============================] - 0s 2ms/step - loss: 1.5186 - accuracy: 0.3532\n"
     ]
    },
    {
     "data": {
      "text/plain": [
       "[1.518629789352417, 0.3532412350177765]"
      ]
     },
     "execution_count": 72,
     "metadata": {},
     "output_type": "execute_result"
    }
   ],
   "source": [
    "# Ausgabe der Bewertung des Modells\n",
    "model.evaluate(X_test, y_test)"
   ]
  }
 ],
 "metadata": {
  "kernelspec": {
   "display_name": "base",
   "language": "python",
   "name": "python3"
  },
  "language_info": {
   "codemirror_mode": {
    "name": "ipython",
    "version": 3
   },
   "file_extension": ".py",
   "mimetype": "text/x-python",
   "name": "python",
   "nbconvert_exporter": "python",
   "pygments_lexer": "ipython3",
   "version": "3.9.12"
  },
  "orig_nbformat": 4
 },
 "nbformat": 4,
 "nbformat_minor": 2
}
