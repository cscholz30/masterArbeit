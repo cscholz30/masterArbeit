{
 "cells": [
  {
   "cell_type": "code",
   "execution_count": 16,
   "metadata": {},
   "outputs": [
    {
     "name": "stdout",
     "output_type": "stream",
     "text": [
      "0.4754\n"
     ]
    }
   ],
   "source": [
    "import nltk\n",
    "nltk.download('vader_lexicon')\n",
    "from nltk.sentiment import SentimentIntensityAnalyzer\n",
    "\n",
    "# Definiere den zu analysierenden Text als Zeichenkette\n",
    "text = \"the weather is very nice outside\"\n",
    "\n",
    "# Erstelle ein SentimentIntensityAnalyzer-Objekt\n",
    "analyzer = SentimentIntensityAnalyzer()\n",
    "\n",
    "# Erhalte die Sentiment-Polarität des Texts (-1 bis 1)\n",
    "sentiment = analyzer.polarity_scores(text)['compound']\n",
    "\n",
    "# Gibt die Sentiment-Polarität aus\n",
    "print(sentiment)\n"
   ]
  },
  {
   "cell_type": "code",
   "execution_count": 17,
   "metadata": {},
   "outputs": [
    {
     "name": "stdout",
     "output_type": "stream",
     "text": [
      "0.39\n"
     ]
    }
   ],
   "source": [
    "from textblob import TextBlob\n",
    "\n",
    "# Definiere den Text, der analysiert werden soll\n",
    "text = \"the weather is very nice outside\"\n",
    "\n",
    "# Erstelle ein TextBlob-Objekt\n",
    "blob = TextBlob(text)\n",
    "\n",
    "# Erhalte die Sentiment-Polarität des Textes (-1 bis 1)\n",
    "sentiment = blob.sentiment.polarity\n",
    "\n",
    "# output der Sentiment-Polarität\n",
    "print(sentiment)\n",
    "\n"
   ]
  },
  {
   "cell_type": "code",
   "execution_count": 19,
   "metadata": {},
   "outputs": [
    {
     "name": "stderr",
     "output_type": "stream",
     "text": [
      "C:\\Users\\fhb181029\\AppData\\Local\\Temp\\ipykernel_5496\\1973631934.py:45: FutureWarning: The frame.append method is deprecated and will be removed from pandas in a future version. Use pandas.concat instead.\n",
      "  results = results.append({\n",
      "C:\\Users\\fhb181029\\AppData\\Local\\Temp\\ipykernel_5496\\1973631934.py:45: FutureWarning: The frame.append method is deprecated and will be removed from pandas in a future version. Use pandas.concat instead.\n",
      "  results = results.append({\n",
      "C:\\Users\\fhb181029\\AppData\\Local\\Temp\\ipykernel_5496\\1973631934.py:45: FutureWarning: The frame.append method is deprecated and will be removed from pandas in a future version. Use pandas.concat instead.\n",
      "  results = results.append({\n",
      "C:\\Users\\fhb181029\\AppData\\Local\\Temp\\ipykernel_5496\\1973631934.py:45: FutureWarning: The frame.append method is deprecated and will be removed from pandas in a future version. Use pandas.concat instead.\n",
      "  results = results.append({\n",
      "C:\\Users\\fhb181029\\AppData\\Local\\Temp\\ipykernel_5496\\1973631934.py:45: FutureWarning: The frame.append method is deprecated and will be removed from pandas in a future version. Use pandas.concat instead.\n",
      "  results = results.append({\n",
      "C:\\Users\\fhb181029\\AppData\\Local\\Temp\\ipykernel_5496\\1973631934.py:45: FutureWarning: The frame.append method is deprecated and will be removed from pandas in a future version. Use pandas.concat instead.\n",
      "  results = results.append({\n",
      "C:\\Users\\fhb181029\\AppData\\Local\\Temp\\ipykernel_5496\\1973631934.py:45: FutureWarning: The frame.append method is deprecated and will be removed from pandas in a future version. Use pandas.concat instead.\n",
      "  results = results.append({\n",
      "C:\\Users\\fhb181029\\AppData\\Local\\Temp\\ipykernel_5496\\1973631934.py:45: FutureWarning: The frame.append method is deprecated and will be removed from pandas in a future version. Use pandas.concat instead.\n",
      "  results = results.append({\n",
      "C:\\Users\\fhb181029\\AppData\\Local\\Temp\\ipykernel_5496\\1973631934.py:45: FutureWarning: The frame.append method is deprecated and will be removed from pandas in a future version. Use pandas.concat instead.\n",
      "  results = results.append({\n",
      "C:\\Users\\fhb181029\\AppData\\Local\\Temp\\ipykernel_5496\\1973631934.py:45: FutureWarning: The frame.append method is deprecated and will be removed from pandas in a future version. Use pandas.concat instead.\n",
      "  results = results.append({\n",
      "C:\\Users\\fhb181029\\AppData\\Local\\Temp\\ipykernel_5496\\1973631934.py:45: FutureWarning: The frame.append method is deprecated and will be removed from pandas in a future version. Use pandas.concat instead.\n",
      "  results = results.append({\n",
      "C:\\Users\\fhb181029\\AppData\\Local\\Temp\\ipykernel_5496\\1973631934.py:45: FutureWarning: The frame.append method is deprecated and will be removed from pandas in a future version. Use pandas.concat instead.\n",
      "  results = results.append({\n",
      "C:\\Users\\fhb181029\\AppData\\Local\\Temp\\ipykernel_5496\\1973631934.py:45: FutureWarning: The frame.append method is deprecated and will be removed from pandas in a future version. Use pandas.concat instead.\n",
      "  results = results.append({\n"
     ]
    },
    {
     "name": "stdout",
     "output_type": "stream",
     "text": [
      "                                               text  TextBlob   VADER\n",
      "0                                                :)       0.5  0.4588\n",
      "1                                                :(     -0.75 -0.4404\n",
      "2                                                ;)      0.25  0.2263\n",
      "3                                                :/     -0.25   -0.34\n",
      "4                                               LOL       0.8  0.4215\n",
      "5                 SpaceX has the best rockets ever!       1.0  0.6696\n",
      "6                             I hate this new song. -0.331818 -0.5719\n",
      "7                         This picture is stunning!     0.625  0.4389\n",
      "8                         I do not dislike Ferrari.       0.0  0.2924\n",
      "9        Disliking Football is not really my thing.      -0.1 -0.3182\n",
      "10            Sometimes I really hate Disney films.      -0.8 -0.6115\n",
      "11  Id really truly love going out in this weather!    0.4125  0.8386\n",
      "12          I had a great experience ordering here.       0.8  0.6249\n",
      "13       I had a terrible experience ordering here.      -1.0 -0.4767\n"
     ]
    },
    {
     "name": "stderr",
     "output_type": "stream",
     "text": [
      "C:\\Users\\fhb181029\\AppData\\Local\\Temp\\ipykernel_5496\\1973631934.py:45: FutureWarning: The frame.append method is deprecated and will be removed from pandas in a future version. Use pandas.concat instead.\n",
      "  results = results.append({\n"
     ]
    }
   ],
   "source": [
    "# Importieren der benötigten Bibliotheken\n",
    "import pandas as pd\n",
    "from textblob import TextBlob\n",
    "from nltk.sentiment.vader import SentimentIntensityAnalyzer\n",
    "\n",
    "def textblob_sentiment(text):\n",
    "    # Methode zur Analyse der Stimmung mit TextBlob\n",
    "    blob = TextBlob(text)\n",
    "    return blob.sentiment.polarity\n",
    "\n",
    "def vader_sentiment(text):\n",
    "    # Methode zur Analyse der Stimmung mit der SentimentIntensityAnalyzer von NLTK\n",
    "    sid = SentimentIntensityAnalyzer()\n",
    "    scores = sid.polarity_scores(text)\n",
    "    return scores['compound']\n",
    "\n",
    "# Erstellen eines DataFrames mit Beispieldaten\n",
    "example_strings = pd.DataFrame({\n",
    "    'text': [\n",
    "        ':)',\n",
    "        ':(',\n",
    "        ';)',\n",
    "        ':/',\n",
    "        'LOL',\n",
    "        'SpaceX has the best rockets ever!',\n",
    "        'I hate this new song.',\n",
    "        'This picture is stunning!',\n",
    "        'I do not dislike Ferrari.',\n",
    "        'Disliking Football is not really my thing.',\n",
    "        'Sometimes I really hate Disney films.',\n",
    "        'Id really truly love going out in this weather!',\n",
    "        'I had a great experience ordering here.',\n",
    "        'I had a terrible experience ordering here.'\n",
    "    ]\n",
    "})\n",
    "\n",
    "# Erstellen eines DataFrames für die Ergebnisse\n",
    "results = pd.DataFrame(columns=['text', 'TextBlob', 'VADER'])\n",
    "\n",
    "# Durchlaufen der Beispieldaten und Anwenden jeder Sentiment-Analyse-Methode auf jeden Text\n",
    "for index, row in example_strings.iterrows():\n",
    "    text = row['text']\n",
    "    textblob_result = textblob_sentiment(text)\n",
    "    vader_result = vader_sentiment(text)\n",
    "    results = results.append({\n",
    "        'text': text,\n",
    "        'TextBlob': textblob_result,\n",
    "        'VADER': vader_result,\n",
    "    }, ignore_index=True)\n",
    "\n",
    "# Ausgabe der Ergebnisse in der Konsole\n",
    "print(results)"
   ]
  },
  {
   "cell_type": "code",
   "execution_count": 9,
   "metadata": {},
   "outputs": [
    {
     "name": "stderr",
     "output_type": "stream",
     "text": [
      "C:\\Users\\fhb181029\\AppData\\Local\\Temp\\ipykernel_5496\\1208750958.py:26: FutureWarning: The frame.append method is deprecated and will be removed from pandas in a future version. Use pandas.concat instead.\n",
      "  results = results.append({\n",
      "C:\\Users\\fhb181029\\AppData\\Local\\Temp\\ipykernel_5496\\1208750958.py:26: FutureWarning: The frame.append method is deprecated and will be removed from pandas in a future version. Use pandas.concat instead.\n",
      "  results = results.append({\n",
      "C:\\Users\\fhb181029\\AppData\\Local\\Temp\\ipykernel_5496\\1208750958.py:26: FutureWarning: The frame.append method is deprecated and will be removed from pandas in a future version. Use pandas.concat instead.\n",
      "  results = results.append({\n",
      "C:\\Users\\fhb181029\\AppData\\Local\\Temp\\ipykernel_5496\\1208750958.py:26: FutureWarning: The frame.append method is deprecated and will be removed from pandas in a future version. Use pandas.concat instead.\n",
      "  results = results.append({\n",
      "C:\\Users\\fhb181029\\AppData\\Local\\Temp\\ipykernel_5496\\1208750958.py:26: FutureWarning: The frame.append method is deprecated and will be removed from pandas in a future version. Use pandas.concat instead.\n",
      "  results = results.append({\n",
      "C:\\Users\\fhb181029\\AppData\\Local\\Temp\\ipykernel_5496\\1208750958.py:26: FutureWarning: The frame.append method is deprecated and will be removed from pandas in a future version. Use pandas.concat instead.\n",
      "  results = results.append({\n",
      "C:\\Users\\fhb181029\\AppData\\Local\\Temp\\ipykernel_5496\\1208750958.py:26: FutureWarning: The frame.append method is deprecated and will be removed from pandas in a future version. Use pandas.concat instead.\n",
      "  results = results.append({\n",
      "C:\\Users\\fhb181029\\AppData\\Local\\Temp\\ipykernel_5496\\1208750958.py:26: FutureWarning: The frame.append method is deprecated and will be removed from pandas in a future version. Use pandas.concat instead.\n",
      "  results = results.append({\n",
      "C:\\Users\\fhb181029\\AppData\\Local\\Temp\\ipykernel_5496\\1208750958.py:26: FutureWarning: The frame.append method is deprecated and will be removed from pandas in a future version. Use pandas.concat instead.\n",
      "  results = results.append({\n",
      "C:\\Users\\fhb181029\\AppData\\Local\\Temp\\ipykernel_5496\\1208750958.py:26: FutureWarning: The frame.append method is deprecated and will be removed from pandas in a future version. Use pandas.concat instead.\n",
      "  results = results.append({\n",
      "C:\\Users\\fhb181029\\AppData\\Local\\Temp\\ipykernel_5496\\1208750958.py:26: FutureWarning: The frame.append method is deprecated and will be removed from pandas in a future version. Use pandas.concat instead.\n",
      "  results = results.append({\n",
      "C:\\Users\\fhb181029\\AppData\\Local\\Temp\\ipykernel_5496\\1208750958.py:26: FutureWarning: The frame.append method is deprecated and will be removed from pandas in a future version. Use pandas.concat instead.\n",
      "  results = results.append({\n",
      "C:\\Users\\fhb181029\\AppData\\Local\\Temp\\ipykernel_5496\\1208750958.py:26: FutureWarning: The frame.append method is deprecated and will be removed from pandas in a future version. Use pandas.concat instead.\n",
      "  results = results.append({\n",
      "C:\\Users\\fhb181029\\AppData\\Local\\Temp\\ipykernel_5496\\1208750958.py:26: FutureWarning: The frame.append method is deprecated and will be removed from pandas in a future version. Use pandas.concat instead.\n",
      "  results = results.append({\n",
      "C:\\Users\\fhb181029\\AppData\\Local\\Temp\\ipykernel_5496\\1208750958.py:26: FutureWarning: The frame.append method is deprecated and will be removed from pandas in a future version. Use pandas.concat instead.\n",
      "  results = results.append({\n",
      "C:\\Users\\fhb181029\\AppData\\Local\\Temp\\ipykernel_5496\\1208750958.py:26: FutureWarning: The frame.append method is deprecated and will be removed from pandas in a future version. Use pandas.concat instead.\n",
      "  results = results.append({\n",
      "C:\\Users\\fhb181029\\AppData\\Local\\Temp\\ipykernel_5496\\1208750958.py:26: FutureWarning: The frame.append method is deprecated and will be removed from pandas in a future version. Use pandas.concat instead.\n",
      "  results = results.append({\n",
      "C:\\Users\\fhb181029\\AppData\\Local\\Temp\\ipykernel_5496\\1208750958.py:26: FutureWarning: The frame.append method is deprecated and will be removed from pandas in a future version. Use pandas.concat instead.\n",
      "  results = results.append({\n",
      "C:\\Users\\fhb181029\\AppData\\Local\\Temp\\ipykernel_5496\\1208750958.py:26: FutureWarning: The frame.append method is deprecated and will be removed from pandas in a future version. Use pandas.concat instead.\n",
      "  results = results.append({\n"
     ]
    },
    {
     "name": "stdout",
     "output_type": "stream",
     "text": [
      "                                                 text  TextBlob   VADER\n",
      "0   Thank you for the quick delivery! However, I'l...  0.208333  0.4199\n",
      "1   #BoycottOTTO - their poor customer service is ...      -0.4 -0.7269\n",
      "2   I've also switched to Amazon because OTTO just...       0.5   -0.25\n",
      "3   I've had bad experiences with OTTO as well. Ho...      -0.7  0.0772\n",
      "4   I'm really disappointed with OTTO. The order a... -0.283333 -0.6932\n",
      "5   My order hasn't arrived either. What can I do?...       0.0     0.0\n",
      "6   The new book from OTTO is really great! Thanks...  0.445455  0.8344\n",
      "7   I'm glad I'm not the only one having issues wi...      0.25  0.4588\n",
      "8   OTTO has let me down multiple times. I'm on th...  0.114815  0.4404\n",
      "9    My order hasn't been delivered yet. How can I...       0.0     0.0\n",
      "10   OTTO really let me down. Customer service was... -0.013889 -0.3252\n",
      "11   It's a shame that OTTO has so many issues. I'...      0.25 -0.4767\n",
      "12   OTTO really needs to improve their customer s...       0.2  0.4877\n",
      "13   Thank you for the quick and easy delivery! I'...  0.291667  0.8122\n",
      "14   My order has arrived and I'm very happy. Than...       1.0  0.7943\n",
      "15   I've only had good experiences with OTTO. Gre...  0.479167   0.807\n",
      "16   OTTO was quick and efficient in helping me wi...  0.416667  0.6239\n",
      "17   OTTO has a great selection and quick delivery...  0.594444  0.8016\n",
      "18   The quality of products from OTTO is really g...       0.8   0.659\n",
      "19   OTTO always has a quick solution when there a...  0.333333 -0.1027\n",
      "20   OTTO hasn't let me down yet. I'm very happy w...  0.422222  0.6115\n",
      "21   I think OTTO has a great selection of product...       0.8  0.6249\n",
      "22   OTTO has a great return policy and fast custo...       0.5  0.6249\n",
      "23   The prices at OTTO are fair and reasonable. #...      0.45  0.3182\n"
     ]
    },
    {
     "name": "stderr",
     "output_type": "stream",
     "text": [
      "C:\\Users\\fhb181029\\AppData\\Local\\Temp\\ipykernel_5496\\1208750958.py:26: FutureWarning: The frame.append method is deprecated and will be removed from pandas in a future version. Use pandas.concat instead.\n",
      "  results = results.append({\n",
      "C:\\Users\\fhb181029\\AppData\\Local\\Temp\\ipykernel_5496\\1208750958.py:26: FutureWarning: The frame.append method is deprecated and will be removed from pandas in a future version. Use pandas.concat instead.\n",
      "  results = results.append({\n",
      "C:\\Users\\fhb181029\\AppData\\Local\\Temp\\ipykernel_5496\\1208750958.py:26: FutureWarning: The frame.append method is deprecated and will be removed from pandas in a future version. Use pandas.concat instead.\n",
      "  results = results.append({\n",
      "C:\\Users\\fhb181029\\AppData\\Local\\Temp\\ipykernel_5496\\1208750958.py:26: FutureWarning: The frame.append method is deprecated and will be removed from pandas in a future version. Use pandas.concat instead.\n",
      "  results = results.append({\n",
      "C:\\Users\\fhb181029\\AppData\\Local\\Temp\\ipykernel_5496\\1208750958.py:26: FutureWarning: The frame.append method is deprecated and will be removed from pandas in a future version. Use pandas.concat instead.\n",
      "  results = results.append({\n"
     ]
    }
   ],
   "source": [
    "import pandas as pd\n",
    "from textblob import TextBlob\n",
    "from nltk.sentiment.vader import SentimentIntensityAnalyzer\n",
    "from sklearn.feature_extraction.text import CountVectorizer\n",
    "from sklearn.naive_bayes import MultinomialNB\n",
    "\n",
    "# Define methods for each sentiment analysis library\n",
    "def textblob_sentiment(text):\n",
    "    blob = TextBlob(text)\n",
    "    return blob.sentiment.polarity\n",
    "\n",
    "def vader_sentiment(text):\n",
    "    sid = SentimentIntensityAnalyzer()\n",
    "    scores = sid.polarity_scores(text)\n",
    "    return scores['compound']\n",
    "\n",
    "# Read example strings from a CSV file\n",
    "example_strings = pd.read_csv('C:/Users/fhb181029/Documents/FH/S9/MasterArbeit/Prototyp/testsentiment.csv', sep=\";\", encoding='iso-8859-1')\n",
    "\n",
    "# Apply each sentiment analysis method to each string\n",
    "results = pd.DataFrame(columns=['text', 'TextBlob', 'VADER'])\n",
    "for index, row in example_strings.iterrows():\n",
    "    text = row['text']\n",
    "    textblob_result = textblob_sentiment(text)\n",
    "    vader_result = vader_sentiment(text)\n",
    "    results = results.append({\n",
    "        'text': text,\n",
    "        'TextBlob': textblob_result,\n",
    "        'VADER': vader_result,\n",
    "    }, ignore_index=True)\n",
    "\n",
    "# Print the results\n",
    "print(results)\n"
   ]
  }
 ],
 "metadata": {
  "kernelspec": {
   "display_name": "base",
   "language": "python",
   "name": "python3"
  },
  "language_info": {
   "codemirror_mode": {
    "name": "ipython",
    "version": 3
   },
   "file_extension": ".py",
   "mimetype": "text/x-python",
   "name": "python",
   "nbconvert_exporter": "python",
   "pygments_lexer": "ipython3",
   "version": "3.9.12"
  },
  "orig_nbformat": 4
 },
 "nbformat": 4,
 "nbformat_minor": 2
}
